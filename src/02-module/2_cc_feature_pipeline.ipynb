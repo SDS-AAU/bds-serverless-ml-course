{
 "cells": [
  {
   "cell_type": "markdown",
   "id": "a03cd759",
   "metadata": {},
   "source": [
    "# Feature Pipeline using Synthetic Data\n",
    "\n",
    "[![Open In Colab](https://colab.research.google.com/assets/colab-badge.svg)](https://colab.research.google.com/github/featurestoreorg/serverless-ml-course/blob/main/src/02-module/2_cc_feature_pipeline.ipynb)\n",
    "\n",
    "**Note**: you may get an error when installing hopsworks on Colab, and it is safe to ignore it.\n",
    "\n",
    "## 🗒️ This notebook is divided in 2 sections:\n",
    "1. Reading the synthetic credit card data and feature engineeing,\n",
    "2. Write the Pandas DataFrames to the feature groups in the feature store.\n"
   ]
  },
  {
   "cell_type": "code",
   "execution_count": 2,
   "id": "6b730276",
   "metadata": {},
   "outputs": [],
   "source": [
    "#!pip install -U hopsworks --quiet\n",
    "!pip install -U faker --quiet"
   ]
  },
  {
   "cell_type": "code",
   "execution_count": 1,
   "id": "aeac6fdc",
   "metadata": {},
   "outputs": [
    {
     "name": "stderr",
     "output_type": "stream",
     "text": [
      "/home/codespace/.local/lib/python3.10/site-packages/tqdm/auto.py:21: TqdmWarning: IProgress not found. Please update jupyter and ipywidgets. See https://ipywidgets.readthedocs.io/en/stable/user_install.html\n",
      "  from .autonotebook import tqdm as notebook_tqdm\n"
     ]
    }
   ],
   "source": [
    "import pandas as pd\n",
    "import datetime\n",
    "import hopsworks\n",
    "from sml import synthetic_data\n",
    "import random\n",
    "pd.options.mode.chained_assignment = None"
   ]
  },
  {
   "cell_type": "code",
   "execution_count": 2,
   "id": "71c2d6dd",
   "metadata": {},
   "outputs": [
    {
     "name": "stdout",
     "output_type": "stream",
     "text": [
      "2024-03-21 12:48:22\n"
     ]
    }
   ],
   "source": [
    "start_time = (datetime.datetime.now() - datetime.timedelta(hours=24)).strftime(\"%Y-%m-%d %H:%M:%S\")\n",
    "print(start_time)"
   ]
  },
  {
   "cell_type": "code",
   "execution_count": 3,
   "id": "ca60a7d2",
   "metadata": {},
   "outputs": [
    {
     "name": "stdout",
     "output_type": "stream",
     "text": [
      "2024-03-22 12:48:26\n"
     ]
    }
   ],
   "source": [
    "#end_time = (datetime.datetime.now() - datetime.timedelta(hours=24)).strftime(\"%Y-%m-%d %H:%M:%S\")\n",
    "end_time = datetime.datetime.now().strftime(\"%Y-%m-%d %H:%M:%S\")\n",
    "print(end_time)"
   ]
  },
  {
   "cell_type": "code",
   "execution_count": 4,
   "id": "e060fdaa",
   "metadata": {},
   "outputs": [],
   "source": [
    "synthetic_data.FRAUD_RATIO = random.uniform(0.001, 0.005)\n",
    "synthetic_data.TOTAL_UNIQUE_USERS = 1000\n",
    "synthetic_data.TOTAL_UNIQUE_TRANSACTIONS = 54000\n",
    "synthetic_data.CASH_WITHRAWAL_CARDS_TOTAL = 2000\n",
    "synthetic_data.TOTAL_UNIQUE_CASH_WITHDRAWALS = 200\n",
    "synthetic_data.START_DATE=start_time\n",
    "synthetic_data.END_DATE=end_time\n",
    "\n",
    "credit_cards = synthetic_data.generate_list_credit_card_numbers()\n",
    "credit_cards_df = synthetic_data.create_credit_cards_as_df(credit_cards)\n",
    "profiles_df = synthetic_data.create_profiles_as_df(credit_cards)\n",
    "trans_df = synthetic_data.create_transactions_as_df(credit_cards)"
   ]
  },
  {
   "cell_type": "markdown",
   "id": "0ba601c9",
   "metadata": {},
   "source": [
    "## <span style=\"color:#ff5f27;\"> 🛠️ Feature Engineering </span>\n",
    "\n",
    "Fraudulent transactions can differ from regular ones in many different ways. Typical red flags would for instance be a large transaction volume/frequency in the span of a few hours. It could also be the case that elderly people in particular are targeted by fraudsters. To facilitate model learning you will create additional features based on these patterns. In particular, you will create two types of features:\n",
    "1. **Features that aggregate data from different data sources**. This could for instance be the age of a customer at the time of a transaction, which combines the `birthdate` feature from `profiles.csv` with the `datetime` feature from `transactions.csv`.\n",
    "2. **Features that aggregate data from multiple time steps**. An example of this could be the transaction frequency of a credit card in the span of a few hours, which is computed using a window function.\n",
    "\n",
    "Let's start with the first category."
   ]
  },
  {
   "cell_type": "code",
   "execution_count": 5,
   "id": "741f6f20",
   "metadata": {},
   "outputs": [
    {
     "data": {
      "text/html": [
       "<div>\n",
       "<style scoped>\n",
       "    .dataframe tbody tr th:only-of-type {\n",
       "        vertical-align: middle;\n",
       "    }\n",
       "\n",
       "    .dataframe tbody tr th {\n",
       "        vertical-align: top;\n",
       "    }\n",
       "\n",
       "    .dataframe thead th {\n",
       "        text-align: right;\n",
       "    }\n",
       "</style>\n",
       "<table border=\"1\" class=\"dataframe\">\n",
       "  <thead>\n",
       "    <tr style=\"text-align: right;\">\n",
       "      <th></th>\n",
       "      <th>tid</th>\n",
       "      <th>cc_num</th>\n",
       "      <th>datetime</th>\n",
       "      <th>fraud_label</th>\n",
       "    </tr>\n",
       "  </thead>\n",
       "  <tbody>\n",
       "    <tr>\n",
       "      <th>0</th>\n",
       "      <td>7f9371d851d97e8a5d959edacd2308c9</td>\n",
       "      <td>4422695741483506</td>\n",
       "      <td>2024-03-21 12:48:23</td>\n",
       "      <td>0</td>\n",
       "    </tr>\n",
       "    <tr>\n",
       "      <th>1</th>\n",
       "      <td>b3718c2c6b1442b5bbc3a9d781e5c9a6</td>\n",
       "      <td>4222689788431660</td>\n",
       "      <td>2024-03-21 12:48:27</td>\n",
       "      <td>0</td>\n",
       "    </tr>\n",
       "    <tr>\n",
       "      <th>2</th>\n",
       "      <td>4e33f6d090b0efb76e0b0c8d83820eb7</td>\n",
       "      <td>4286362653607516</td>\n",
       "      <td>2024-03-21 12:48:27</td>\n",
       "      <td>0</td>\n",
       "    </tr>\n",
       "    <tr>\n",
       "      <th>3</th>\n",
       "      <td>25415da163fb7b983a9c48d3feee757e</td>\n",
       "      <td>4570139020102669</td>\n",
       "      <td>2024-03-21 12:48:28</td>\n",
       "      <td>0</td>\n",
       "    </tr>\n",
       "    <tr>\n",
       "      <th>4</th>\n",
       "      <td>61a490681bf64693f8dc06c658b08168</td>\n",
       "      <td>4201609549484043</td>\n",
       "      <td>2024-03-21 12:48:32</td>\n",
       "      <td>0</td>\n",
       "    </tr>\n",
       "    <tr>\n",
       "      <th>...</th>\n",
       "      <td>...</td>\n",
       "      <td>...</td>\n",
       "      <td>...</td>\n",
       "      <td>...</td>\n",
       "    </tr>\n",
       "    <tr>\n",
       "      <th>60081</th>\n",
       "      <td>6b6419722033d2de0fb8f2c5329e4010</td>\n",
       "      <td>4451523647410551</td>\n",
       "      <td>2024-04-09 12:28:03</td>\n",
       "      <td>0</td>\n",
       "    </tr>\n",
       "    <tr>\n",
       "      <th>60082</th>\n",
       "      <td>520031a38e54edeed1129c834cada631</td>\n",
       "      <td>4451523647410551</td>\n",
       "      <td>2024-04-12 14:28:03</td>\n",
       "      <td>0</td>\n",
       "    </tr>\n",
       "    <tr>\n",
       "      <th>60083</th>\n",
       "      <td>6004d15f6243b15a19724d9a2fffa74b</td>\n",
       "      <td>4451523647410551</td>\n",
       "      <td>2024-04-15 16:28:03</td>\n",
       "      <td>0</td>\n",
       "    </tr>\n",
       "    <tr>\n",
       "      <th>60084</th>\n",
       "      <td>b4e21ec2569c93df43184e86b661cc35</td>\n",
       "      <td>4451523647410551</td>\n",
       "      <td>2024-04-18 18:28:03</td>\n",
       "      <td>0</td>\n",
       "    </tr>\n",
       "    <tr>\n",
       "      <th>60085</th>\n",
       "      <td>04dc3345db0ed387b2b7ff60b4f9cb03</td>\n",
       "      <td>4451523647410551</td>\n",
       "      <td>2024-04-21 20:28:03</td>\n",
       "      <td>0</td>\n",
       "    </tr>\n",
       "  </tbody>\n",
       "</table>\n",
       "<p>60086 rows × 4 columns</p>\n",
       "</div>"
      ],
      "text/plain": [
       "                                    tid            cc_num            datetime  \\\n",
       "0      7f9371d851d97e8a5d959edacd2308c9  4422695741483506 2024-03-21 12:48:23   \n",
       "1      b3718c2c6b1442b5bbc3a9d781e5c9a6  4222689788431660 2024-03-21 12:48:27   \n",
       "2      4e33f6d090b0efb76e0b0c8d83820eb7  4286362653607516 2024-03-21 12:48:27   \n",
       "3      25415da163fb7b983a9c48d3feee757e  4570139020102669 2024-03-21 12:48:28   \n",
       "4      61a490681bf64693f8dc06c658b08168  4201609549484043 2024-03-21 12:48:32   \n",
       "...                                 ...               ...                 ...   \n",
       "60081  6b6419722033d2de0fb8f2c5329e4010  4451523647410551 2024-04-09 12:28:03   \n",
       "60082  520031a38e54edeed1129c834cada631  4451523647410551 2024-04-12 14:28:03   \n",
       "60083  6004d15f6243b15a19724d9a2fffa74b  4451523647410551 2024-04-15 16:28:03   \n",
       "60084  b4e21ec2569c93df43184e86b661cc35  4451523647410551 2024-04-18 18:28:03   \n",
       "60085  04dc3345db0ed387b2b7ff60b4f9cb03  4451523647410551 2024-04-21 20:28:03   \n",
       "\n",
       "       fraud_label  \n",
       "0                0  \n",
       "1                0  \n",
       "2                0  \n",
       "3                0  \n",
       "4                0  \n",
       "...            ...  \n",
       "60081            0  \n",
       "60082            0  \n",
       "60083            0  \n",
       "60084            0  \n",
       "60085            0  \n",
       "\n",
       "[60086 rows x 4 columns]"
      ]
     },
     "execution_count": 5,
     "metadata": {},
     "output_type": "execute_result"
    }
   ],
   "source": [
    "fraud_labels = trans_df.copy()[[\"tid\", \"cc_num\", \"datetime\", \"fraud_label\"]]\n",
    "fraud_labels"
   ]
  },
  {
   "cell_type": "code",
   "execution_count": 8,
   "id": "4fd45117",
   "metadata": {},
   "outputs": [
    {
     "data": {
      "text/html": [
       "<div>\n",
       "<style scoped>\n",
       "    .dataframe tbody tr th:only-of-type {\n",
       "        vertical-align: middle;\n",
       "    }\n",
       "\n",
       "    .dataframe tbody tr th {\n",
       "        vertical-align: top;\n",
       "    }\n",
       "\n",
       "    .dataframe thead th {\n",
       "        text-align: right;\n",
       "    }\n",
       "</style>\n",
       "<table border=\"1\" class=\"dataframe\">\n",
       "  <thead>\n",
       "    <tr style=\"text-align: right;\">\n",
       "      <th></th>\n",
       "      <th>tid</th>\n",
       "      <th>cc_num</th>\n",
       "      <th>datetime</th>\n",
       "      <th>fraud_label</th>\n",
       "    </tr>\n",
       "  </thead>\n",
       "  <tbody>\n",
       "    <tr>\n",
       "      <th>0</th>\n",
       "      <td>7f9371d851d97e8a5d959edacd2308c9</td>\n",
       "      <td>4422695741483506</td>\n",
       "      <td>1711025303000</td>\n",
       "      <td>0</td>\n",
       "    </tr>\n",
       "    <tr>\n",
       "      <th>1</th>\n",
       "      <td>b3718c2c6b1442b5bbc3a9d781e5c9a6</td>\n",
       "      <td>4222689788431660</td>\n",
       "      <td>1711025307000</td>\n",
       "      <td>0</td>\n",
       "    </tr>\n",
       "    <tr>\n",
       "      <th>2</th>\n",
       "      <td>4e33f6d090b0efb76e0b0c8d83820eb7</td>\n",
       "      <td>4286362653607516</td>\n",
       "      <td>1711025307000</td>\n",
       "      <td>0</td>\n",
       "    </tr>\n",
       "    <tr>\n",
       "      <th>3</th>\n",
       "      <td>25415da163fb7b983a9c48d3feee757e</td>\n",
       "      <td>4570139020102669</td>\n",
       "      <td>1711025308000</td>\n",
       "      <td>0</td>\n",
       "    </tr>\n",
       "    <tr>\n",
       "      <th>4</th>\n",
       "      <td>61a490681bf64693f8dc06c658b08168</td>\n",
       "      <td>4201609549484043</td>\n",
       "      <td>1711025312000</td>\n",
       "      <td>0</td>\n",
       "    </tr>\n",
       "    <tr>\n",
       "      <th>...</th>\n",
       "      <td>...</td>\n",
       "      <td>...</td>\n",
       "      <td>...</td>\n",
       "      <td>...</td>\n",
       "    </tr>\n",
       "    <tr>\n",
       "      <th>60081</th>\n",
       "      <td>6b6419722033d2de0fb8f2c5329e4010</td>\n",
       "      <td>4451523647410551</td>\n",
       "      <td>1712665683000</td>\n",
       "      <td>0</td>\n",
       "    </tr>\n",
       "    <tr>\n",
       "      <th>60082</th>\n",
       "      <td>520031a38e54edeed1129c834cada631</td>\n",
       "      <td>4451523647410551</td>\n",
       "      <td>1712932083000</td>\n",
       "      <td>0</td>\n",
       "    </tr>\n",
       "    <tr>\n",
       "      <th>60083</th>\n",
       "      <td>6004d15f6243b15a19724d9a2fffa74b</td>\n",
       "      <td>4451523647410551</td>\n",
       "      <td>1713198483000</td>\n",
       "      <td>0</td>\n",
       "    </tr>\n",
       "    <tr>\n",
       "      <th>60084</th>\n",
       "      <td>b4e21ec2569c93df43184e86b661cc35</td>\n",
       "      <td>4451523647410551</td>\n",
       "      <td>1713464883000</td>\n",
       "      <td>0</td>\n",
       "    </tr>\n",
       "    <tr>\n",
       "      <th>60085</th>\n",
       "      <td>04dc3345db0ed387b2b7ff60b4f9cb03</td>\n",
       "      <td>4451523647410551</td>\n",
       "      <td>1713731283000</td>\n",
       "      <td>0</td>\n",
       "    </tr>\n",
       "  </tbody>\n",
       "</table>\n",
       "<p>60086 rows × 4 columns</p>\n",
       "</div>"
      ],
      "text/plain": [
       "                                    tid            cc_num       datetime  \\\n",
       "0      7f9371d851d97e8a5d959edacd2308c9  4422695741483506  1711025303000   \n",
       "1      b3718c2c6b1442b5bbc3a9d781e5c9a6  4222689788431660  1711025307000   \n",
       "2      4e33f6d090b0efb76e0b0c8d83820eb7  4286362653607516  1711025307000   \n",
       "3      25415da163fb7b983a9c48d3feee757e  4570139020102669  1711025308000   \n",
       "4      61a490681bf64693f8dc06c658b08168  4201609549484043  1711025312000   \n",
       "...                                 ...               ...            ...   \n",
       "60081  6b6419722033d2de0fb8f2c5329e4010  4451523647410551  1712665683000   \n",
       "60082  520031a38e54edeed1129c834cada631  4451523647410551  1712932083000   \n",
       "60083  6004d15f6243b15a19724d9a2fffa74b  4451523647410551  1713198483000   \n",
       "60084  b4e21ec2569c93df43184e86b661cc35  4451523647410551  1713464883000   \n",
       "60085  04dc3345db0ed387b2b7ff60b4f9cb03  4451523647410551  1713731283000   \n",
       "\n",
       "       fraud_label  \n",
       "0                0  \n",
       "1                0  \n",
       "2                0  \n",
       "3                0  \n",
       "4                0  \n",
       "...            ...  \n",
       "60081            0  \n",
       "60082            0  \n",
       "60083            0  \n",
       "60084            0  \n",
       "60085            0  \n",
       "\n",
       "[60086 rows x 4 columns]"
      ]
     },
     "execution_count": 8,
     "metadata": {},
     "output_type": "execute_result"
    }
   ],
   "source": [
    "from sml import cc_features\n",
    "\n",
    "fraud_labels.datetime = fraud_labels.datetime.map(lambda x: cc_features.date_to_timestamp(x))\n",
    "fraud_labels"
   ]
  },
  {
   "cell_type": "code",
   "execution_count": 9,
   "id": "46abff7f",
   "metadata": {},
   "outputs": [
    {
     "data": {
      "text/html": [
       "<div>\n",
       "<style scoped>\n",
       "    .dataframe tbody tr th:only-of-type {\n",
       "        vertical-align: middle;\n",
       "    }\n",
       "\n",
       "    .dataframe tbody tr th {\n",
       "        vertical-align: top;\n",
       "    }\n",
       "\n",
       "    .dataframe thead th {\n",
       "        text-align: right;\n",
       "    }\n",
       "</style>\n",
       "<table border=\"1\" class=\"dataframe\">\n",
       "  <thead>\n",
       "    <tr style=\"text-align: right;\">\n",
       "      <th></th>\n",
       "      <th>tid</th>\n",
       "      <th>datetime</th>\n",
       "      <th>cc_num</th>\n",
       "      <th>category</th>\n",
       "      <th>amount</th>\n",
       "      <th>latitude</th>\n",
       "      <th>longitude</th>\n",
       "      <th>city</th>\n",
       "      <th>country</th>\n",
       "      <th>fraud_label</th>\n",
       "    </tr>\n",
       "  </thead>\n",
       "  <tbody>\n",
       "    <tr>\n",
       "      <th>0</th>\n",
       "      <td>9e7f110e7a20645f78e9ecb14334f5e3</td>\n",
       "      <td>2024-03-20 13:14:48</td>\n",
       "      <td>4266382731398114</td>\n",
       "      <td>Electronics</td>\n",
       "      <td>456.97</td>\n",
       "      <td>36.025060</td>\n",
       "      <td>-86.779170</td>\n",
       "      <td>Brentwood Estates</td>\n",
       "      <td>US</td>\n",
       "      <td>0</td>\n",
       "    </tr>\n",
       "    <tr>\n",
       "      <th>1</th>\n",
       "      <td>08daf9d62a167c3df1f12ff502276f8c</td>\n",
       "      <td>2024-03-20 13:14:49</td>\n",
       "      <td>4322428180207298</td>\n",
       "      <td>Grocery</td>\n",
       "      <td>71.93</td>\n",
       "      <td>33.410120</td>\n",
       "      <td>-91.061770</td>\n",
       "      <td>Greenville</td>\n",
       "      <td>US</td>\n",
       "      <td>0</td>\n",
       "    </tr>\n",
       "    <tr>\n",
       "      <th>2</th>\n",
       "      <td>061c39bcdf76e02b5c3cdcee4b976b26</td>\n",
       "      <td>2024-03-20 13:14:50</td>\n",
       "      <td>4709001521516926</td>\n",
       "      <td>Restaurant/Cafeteria</td>\n",
       "      <td>10.87</td>\n",
       "      <td>33.036990</td>\n",
       "      <td>-117.291980</td>\n",
       "      <td>Encinitas</td>\n",
       "      <td>US</td>\n",
       "      <td>0</td>\n",
       "    </tr>\n",
       "    <tr>\n",
       "      <th>3</th>\n",
       "      <td>aac14fa593c1bc877a5e26149d2b0d1a</td>\n",
       "      <td>2024-03-20 13:14:52</td>\n",
       "      <td>4160440205525104</td>\n",
       "      <td>Grocery</td>\n",
       "      <td>79.64</td>\n",
       "      <td>29.845760</td>\n",
       "      <td>-90.106740</td>\n",
       "      <td>Estelle</td>\n",
       "      <td>US</td>\n",
       "      <td>0</td>\n",
       "    </tr>\n",
       "    <tr>\n",
       "      <th>4</th>\n",
       "      <td>fa59fafdab41aef697197b52d6c29f3e</td>\n",
       "      <td>2024-03-20 13:14:55</td>\n",
       "      <td>4610739772483860</td>\n",
       "      <td>Holliday/Travel</td>\n",
       "      <td>43.42</td>\n",
       "      <td>40.605380</td>\n",
       "      <td>-73.755130</td>\n",
       "      <td>Far Rockaway</td>\n",
       "      <td>US</td>\n",
       "      <td>0</td>\n",
       "    </tr>\n",
       "    <tr>\n",
       "      <th>...</th>\n",
       "      <td>...</td>\n",
       "      <td>...</td>\n",
       "      <td>...</td>\n",
       "      <td>...</td>\n",
       "      <td>...</td>\n",
       "      <td>...</td>\n",
       "      <td>...</td>\n",
       "      <td>...</td>\n",
       "      <td>...</td>\n",
       "      <td>...</td>\n",
       "    </tr>\n",
       "    <tr>\n",
       "      <th>60081</th>\n",
       "      <td>1b402606d739bf3b2ff834845713d998</td>\n",
       "      <td>2024-04-08 01:26:56</td>\n",
       "      <td>4267422077883458</td>\n",
       "      <td>Cash Withdrawal</td>\n",
       "      <td>62.36</td>\n",
       "      <td>34.239010</td>\n",
       "      <td>-119.044274</td>\n",
       "      <td>Camarillo</td>\n",
       "      <td>US</td>\n",
       "      <td>0</td>\n",
       "    </tr>\n",
       "    <tr>\n",
       "      <th>60082</th>\n",
       "      <td>f7660e16c8f381f6b0db24ff6f6918de</td>\n",
       "      <td>2024-04-11 03:26:56</td>\n",
       "      <td>4267422077883458</td>\n",
       "      <td>Cash Withdrawal</td>\n",
       "      <td>79.94</td>\n",
       "      <td>34.248261</td>\n",
       "      <td>-119.041913</td>\n",
       "      <td>Camarillo</td>\n",
       "      <td>US</td>\n",
       "      <td>0</td>\n",
       "    </tr>\n",
       "    <tr>\n",
       "      <th>60083</th>\n",
       "      <td>3b610ed4e050949da57871cb7c9a904e</td>\n",
       "      <td>2024-04-14 05:26:56</td>\n",
       "      <td>4267422077883458</td>\n",
       "      <td>Cash Withdrawal</td>\n",
       "      <td>2.69</td>\n",
       "      <td>34.243697</td>\n",
       "      <td>-119.033705</td>\n",
       "      <td>Camarillo</td>\n",
       "      <td>US</td>\n",
       "      <td>0</td>\n",
       "    </tr>\n",
       "    <tr>\n",
       "      <th>60084</th>\n",
       "      <td>2d149243790e7a5e8c99e87859e779c2</td>\n",
       "      <td>2024-04-17 07:26:56</td>\n",
       "      <td>4267422077883458</td>\n",
       "      <td>Cash Withdrawal</td>\n",
       "      <td>16.80</td>\n",
       "      <td>34.234965</td>\n",
       "      <td>-119.040798</td>\n",
       "      <td>Camarillo</td>\n",
       "      <td>US</td>\n",
       "      <td>0</td>\n",
       "    </tr>\n",
       "    <tr>\n",
       "      <th>60085</th>\n",
       "      <td>327f3c208a59405310df5604b553a415</td>\n",
       "      <td>2024-04-20 09:26:56</td>\n",
       "      <td>4267422077883458</td>\n",
       "      <td>Cash Withdrawal</td>\n",
       "      <td>82.37</td>\n",
       "      <td>34.239687</td>\n",
       "      <td>-119.038619</td>\n",
       "      <td>Camarillo</td>\n",
       "      <td>US</td>\n",
       "      <td>0</td>\n",
       "    </tr>\n",
       "  </tbody>\n",
       "</table>\n",
       "<p>60086 rows × 10 columns</p>\n",
       "</div>"
      ],
      "text/plain": [
       "                                    tid            datetime            cc_num  \\\n",
       "0      9e7f110e7a20645f78e9ecb14334f5e3 2024-03-20 13:14:48  4266382731398114   \n",
       "1      08daf9d62a167c3df1f12ff502276f8c 2024-03-20 13:14:49  4322428180207298   \n",
       "2      061c39bcdf76e02b5c3cdcee4b976b26 2024-03-20 13:14:50  4709001521516926   \n",
       "3      aac14fa593c1bc877a5e26149d2b0d1a 2024-03-20 13:14:52  4160440205525104   \n",
       "4      fa59fafdab41aef697197b52d6c29f3e 2024-03-20 13:14:55  4610739772483860   \n",
       "...                                 ...                 ...               ...   \n",
       "60081  1b402606d739bf3b2ff834845713d998 2024-04-08 01:26:56  4267422077883458   \n",
       "60082  f7660e16c8f381f6b0db24ff6f6918de 2024-04-11 03:26:56  4267422077883458   \n",
       "60083  3b610ed4e050949da57871cb7c9a904e 2024-04-14 05:26:56  4267422077883458   \n",
       "60084  2d149243790e7a5e8c99e87859e779c2 2024-04-17 07:26:56  4267422077883458   \n",
       "60085  327f3c208a59405310df5604b553a415 2024-04-20 09:26:56  4267422077883458   \n",
       "\n",
       "                   category  amount   latitude   longitude               city  \\\n",
       "0               Electronics  456.97  36.025060  -86.779170  Brentwood Estates   \n",
       "1                   Grocery   71.93  33.410120  -91.061770         Greenville   \n",
       "2      Restaurant/Cafeteria   10.87  33.036990 -117.291980          Encinitas   \n",
       "3                   Grocery   79.64  29.845760  -90.106740            Estelle   \n",
       "4           Holliday/Travel   43.42  40.605380  -73.755130       Far Rockaway   \n",
       "...                     ...     ...        ...         ...                ...   \n",
       "60081       Cash Withdrawal   62.36  34.239010 -119.044274          Camarillo   \n",
       "60082       Cash Withdrawal   79.94  34.248261 -119.041913          Camarillo   \n",
       "60083       Cash Withdrawal    2.69  34.243697 -119.033705          Camarillo   \n",
       "60084       Cash Withdrawal   16.80  34.234965 -119.040798          Camarillo   \n",
       "60085       Cash Withdrawal   82.37  34.239687 -119.038619          Camarillo   \n",
       "\n",
       "      country  fraud_label  \n",
       "0          US            0  \n",
       "1          US            0  \n",
       "2          US            0  \n",
       "3          US            0  \n",
       "4          US            0  \n",
       "...       ...          ...  \n",
       "60081      US            0  \n",
       "60082      US            0  \n",
       "60083      US            0  \n",
       "60084      US            0  \n",
       "60085      US            0  \n",
       "\n",
       "[60086 rows x 10 columns]"
      ]
     },
     "execution_count": 9,
     "metadata": {},
     "output_type": "execute_result"
    }
   ],
   "source": [
    "trans_df"
   ]
  },
  {
   "cell_type": "code",
   "execution_count": 6,
   "id": "fcadef7c",
   "metadata": {},
   "outputs": [],
   "source": [
    "trans_df.drop(['fraud_label'], inplace = True, axis=1)"
   ]
  },
  {
   "cell_type": "code",
   "execution_count": 9,
   "id": "3d242a03",
   "metadata": {},
   "outputs": [],
   "source": [
    "trans_df = cc_features.card_owner_age(trans_df, profiles_df)\n",
    "trans_df = cc_features.expiry_days(trans_df, credit_cards_df)\n",
    "trans_df = cc_features.activity_level(trans_df, 1)"
   ]
  },
  {
   "cell_type": "code",
   "execution_count": 10,
   "id": "9884c382",
   "metadata": {},
   "outputs": [],
   "source": [
    "window_len = 4\n",
    "window_aggs_df = cc_features.aggregate_activity_by_hour(trans_df, window_len)"
   ]
  },
  {
   "cell_type": "markdown",
   "id": "3acfeba9",
   "metadata": {},
   "source": [
    "Next, you will create features that for each credit card aggregate data from multiple time steps.\n",
    "\n",
    "Yoy will start by computing the distance between consecutive transactions, lets call it `loc_delta`.\n",
    "Here you will use the [Haversine distance](https://scikit-learn.org/stable/modules/generated/sklearn.metrics.pairwise.haversine_distances.html?highlight=haversine#sklearn.metrics.pairwise.haversine_distances) to quantify the distance between two longitude and latitude coordinates."
   ]
  },
  {
   "cell_type": "markdown",
   "id": "deda57e8",
   "metadata": {},
   "source": [
    "Next lets compute windowed aggregates. Here you will use 4-hour windows, but feel free to experiment with different window lengths by setting `window_len` below to a value of your choice."
   ]
  },
  {
   "cell_type": "code",
   "execution_count": 11,
   "id": "cf3ce8b0",
   "metadata": {},
   "outputs": [
    {
     "name": "stdout",
     "output_type": "stream",
     "text": [
      "Connected. Call `.close()` to terminate connection gracefully.\n",
      "\n",
      "Logged in to project, explore it here https://c.app.hopsworks.ai:443/p/327831\n",
      "Connected. Call `.close()` to terminate connection gracefully.\n"
     ]
    }
   ],
   "source": [
    "project = hopsworks.login()\n",
    "fs = project.get_feature_store()"
   ]
  },
  {
   "cell_type": "markdown",
   "id": "9c8c224e",
   "metadata": {},
   "source": [
    "To create a feature group you need to give it a name and specify a primary key. It is also good to provide a description of the contents of the feature group and a version number, if it is not defined it will automatically be incremented to `1`."
   ]
  },
  {
   "cell_type": "code",
   "execution_count": 12,
   "id": "32d5258d",
   "metadata": {},
   "outputs": [
    {
     "name": "stderr",
     "output_type": "stream",
     "text": [
      "Uploading Dataframe: 100.00% |██████████| Rows 60086/60086 | Elapsed Time: 00:10 | Remaining Time: 00:00\n"
     ]
    },
    {
     "name": "stdout",
     "output_type": "stream",
     "text": [
      "Launching job: cc_trans_fraud_2_offline_fg_materialization\n",
      "Job started successfully, you can follow the progress at \n",
      "https://c.app.hopsworks.ai/p/327831/jobs/named/cc_trans_fraud_2_offline_fg_materialization/executions\n"
     ]
    },
    {
     "data": {
      "text/plain": [
       "(<hsfs.core.job.Job at 0x7fd0678666e0>, None)"
      ]
     },
     "execution_count": 12,
     "metadata": {},
     "output_type": "execute_result"
    }
   ],
   "source": [
    "trans_fg = fs.get_feature_group(name=\"cc_trans_fraud\", version=2)\n",
    "trans_fg.insert(trans_df, write_options={\"wait_for_job\" : False})"
   ]
  },
  {
   "cell_type": "code",
   "execution_count": 13,
   "id": "d81ed056",
   "metadata": {},
   "outputs": [
    {
     "name": "stderr",
     "output_type": "stream",
     "text": [
      "Uploading Dataframe: 100.00% |██████████| Rows 60086/60086 | Elapsed Time: 00:07 | Remaining Time: 00:00\n"
     ]
    },
    {
     "name": "stdout",
     "output_type": "stream",
     "text": [
      "Launching job: cc_trans_fraud_4h_2_offline_fg_materialization\n",
      "Job started successfully, you can follow the progress at \n",
      "https://c.app.hopsworks.ai/p/327831/jobs/named/cc_trans_fraud_4h_2_offline_fg_materialization/executions\n"
     ]
    },
    {
     "data": {
      "text/plain": [
       "(<hsfs.core.job.Job at 0x7fd0677b17b0>, None)"
      ]
     },
     "execution_count": 13,
     "metadata": {},
     "output_type": "execute_result"
    }
   ],
   "source": [
    "window_aggs_fg = fs.get_feature_group(name=f\"cc_trans_fraud_{window_len}h\", version=2)\n",
    "window_aggs_fg.insert(window_aggs_df, write_options={\"wait_for_job\" : False})"
   ]
  },
  {
   "cell_type": "code",
   "execution_count": 14,
   "id": "4167a4a7",
   "metadata": {},
   "outputs": [
    {
     "name": "stderr",
     "output_type": "stream",
     "text": [
      "Uploading Dataframe: 100.00% |██████████| Rows 60086/60086 | Elapsed Time: 00:07 | Remaining Time: 00:00\n"
     ]
    },
    {
     "name": "stdout",
     "output_type": "stream",
     "text": [
      "Launching job: transactions_fraud_label_2_offline_fg_materialization\n",
      "Job started successfully, you can follow the progress at \n",
      "https://c.app.hopsworks.ai/p/327831/jobs/named/transactions_fraud_label_2_offline_fg_materialization/executions\n"
     ]
    },
    {
     "data": {
      "text/plain": [
       "(<hsfs.core.job.Job at 0x7fd064dd5a50>, None)"
      ]
     },
     "execution_count": 14,
     "metadata": {},
     "output_type": "execute_result"
    }
   ],
   "source": [
    "\n",
    "labels_fg = fs.get_feature_group(name=\"transactions_fraud_label\", version=2)\n",
    "labels_fg.insert(fraud_labels)"
   ]
  },
  {
   "cell_type": "code",
   "execution_count": null,
   "id": "b1c0de4c",
   "metadata": {},
   "outputs": [],
   "source": []
  }
 ],
 "metadata": {
  "interpreter": {
   "hash": "e1ddeae6eefc765c17da80d38ea59b893ab18c0c0904077a035ef84cfe367f83"
  },
  "kernelspec": {
   "display_name": "Python 3 (ipykernel)",
   "language": "python",
   "name": "python3"
  },
  "language_info": {
   "codemirror_mode": {
    "name": "ipython",
    "version": 3
   },
   "file_extension": ".py",
   "mimetype": "text/x-python",
   "name": "python",
   "nbconvert_exporter": "python",
   "pygments_lexer": "ipython3",
   "version": "3.10.13"
  }
 },
 "nbformat": 4,
 "nbformat_minor": 5
}
